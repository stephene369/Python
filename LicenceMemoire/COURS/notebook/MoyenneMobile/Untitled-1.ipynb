# %%
import pandas as pd
import numpy as np
import matplotlib.pyplot as plt
import pandas as pd
from print_color import print
import locale 
from datetime import datetime
locale.setlocale(locale.LC_TIME, 'fr_FR.UTF-8')


# %%
#brvm = yf.download("AMZN","2020-01-01","2021-01-01")
#brvm.to_csv("AMAZON_2021-11-24_2023-05-10.csv")
#print(len(brvm))
#brvm = pd.read_csv("AMAZON_2021-11-24_2023-05-10.csv")
#brvm = brvm.set_index(brvm["Date"]).drop("Date",axis=1)


# %%
BRVM = pd.read_csv("../data/BRVM-Agriculture.csv",index_col="Date").drop("Vol."  ,axis=1)


# %%
debut = -365
fin = len(BRVM)
brvm = BRVM.iloc[debut:]

# %%
# creation de de colonne de moyenne mobile

# moyenne mobile rapide / court terme
brvm["MA10"] = brvm["Close"].rolling(6).mean() #10

# moyenne mobile lente / long terme
brvm["MA50"] = brvm["Close"].rolling(10).mean() #40

brvm = brvm.dropna() ;

# %%
# creation de la liste position
condition = [brvm["MA10"]>brvm["MA50"] , brvm["MA10"]<brvm["MA50"]]
# creation d'une liste choix de deux element
choix = [1,0]
# 
brvm['P'] = np.select(condition, choix)

# %%
brvm

# %%
condition = []
signal_achat = []
signal_vente = []
date_1 = brvm.index[0]
stock = 0 # permet d'eviter d'acheter quand on pas de stock au debut

for date in brvm.index :
    if brvm["MA10"].loc[date] > brvm["MA50"].loc[date] :
        condition.append(1)
    else :
        condition.append(0)
    
    if( brvm["MA10"].loc[date] > brvm["MA50"].loc[date] ) and (brvm["MA10"].loc[date_1] < brvm["MA50"].loc[date_1]) and stock == 0:
        signal_achat.append(brvm["Close"].loc[date])
        stock = 1

    else :
        signal_achat.append(np.nan)

    
    if( brvm["MA10"].loc[date] < brvm["MA50"].loc[date] ) and (brvm["MA10"].loc[date_1] > brvm["MA50"].loc[date_1]) and (stock == 1):
        signal_vente.append(brvm["Close"].loc[date])
        stock = 0
    else :
        signal_vente.append(np.nan)
        
    date_1 = date

brvm["Position"] = condition
        


# %%
for i in range(len(brvm)-1 , 0 , -1 ) :
    if signal_achat[i] > 0 :
        signal_achat[i] = np.nan
        break
        

# %%
achat_vente = []
stock = 0
for i in range( len(brvm) ) :
    if signal_achat[i] > 0 and stock != 1:
        achat_vente.append('acheter')
        stock = 1
    elif signal_vente[i] > 0 and stock != 0 :
        achat_vente.append('vendre' )
        stock=0
    else :
        achat_vente.append(np.nan)

brvm['achat_vente'] = achat_vente

# %%
fig = plt.figure(figsize=(14,7), dpi=150)

axe1 = fig.add_axes([0,1,1,0.9])

axe1 = brvm["Close"].plot(label='Prixe de cloture') 
axe1 = brvm["MA10"].plot(label='Moyenne mobile rapide')
axe1 = brvm["MA50"].plot(label='Moyenne mobile lente')

axe1.plot(brvm.index , signal_achat , marker='^',color='green',markersize=10,label = "Signal d'achat",linewidth=2)
axe1.plot(brvm.index , signal_vente , marker='v',color='red',markersize=10,label = "Signal de vente",linewidth=2)

axe1.legend()
axe1.set_title("BRVM" , fontsize=20) 
axe1.set_ylabel("Prix de cloture des actions BRVM")


# %% [markdown]
# ## Backtesting

# %%
benefice = 0
depart = 1000
d = depart
nombre = 0
total = 0

for i in range( len( brvm ) ) :
    if brvm['achat_vente'].iloc[i] == 'acheter' :

        nombre = depart/brvm['Close'].iloc[i]
        entrer = nombre*brvm['Close'].iloc[i]

    elif brvm['achat_vente'].iloc[i] == 'vendre' :

        sorti = (nombre*brvm['Close'].iloc[i])
        benefice += sorti-entrer
        
        total += sorti
        depart = sorti
    else :
        pass

pourcentage_befice = 100*(benefice/d)

# %%
date_depart = datetime.strptime( BRVM.iloc[debut].name , "%d/%m/%Y" ).strftime("%A %d %B, %Y ")
date_fin = datetime.strptime( BRVM.iloc[fin-1].name , "%d/%m/%Y" ).strftime("%A %d %B, %Y ")

print("Avec un capitale de depart de " ,end="")
print("{:,.2f} Fcfa".format(d) , color='green')
print("nous avons réalisé un benefice de ",end='')
print("{:.2f} %".format(pourcentage_befice) , color='green')
print("Soit un benefice total de ",end='')
print("{:,.2f} Fcfa".format(benefice) , color='green')
print("Sur la periode allant du ",end='')
print(date_depart , color="blue" , end="") ; print(" au " ,end="")
print(date_fin , color="blue" , end="")



