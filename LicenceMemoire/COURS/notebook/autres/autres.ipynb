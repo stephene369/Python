{
 "cells": [
  {
   "cell_type": "code",
   "execution_count": 6,
   "metadata": {},
   "outputs": [],
   "source": [
    "import json,urllib,requests\n",
    "import pandas as pd\n",
    "import csv"
   ]
  },
  {
   "cell_type": "code",
   "execution_count": 7,
   "metadata": {},
   "outputs": [],
   "source": [
    "link = \"https://api.polygon.io/v1/indicators/macd/I:DJI?timespan=day&adjusted=true&short_window=12&long_window=26&signal_window=9&series_type=close&order=desc&limit=200&apiKey=96VxGNMleqAuqtHWcg4y1WXulsPcjqkB\"\n",
    "abj = \"https://api.polygon.io/v1/indicators/sma/AAPLC?timespan=day&adjusted=true&window=50&series_type=close&order=desc&limit=400&apiKey=96VxGNMleqAuqtHWcg4y1WXulsPcjqkB\"\n",
    "\n",
    "link_MA = \"https://api.polygon.io/v1/indicators/sma/AAPL?timestamp=YYYY-MM-DD&timespan=day&adjusted=true&window=50&series_type=close&order=desc&limit=400&apiKey=96VxGNMleqAuqtHWcg4y1WXulsPcjqkB\"\n",
    "l=\"https://api.polygon.io/v2/aggs/ticker/AAPL/range/4/day/2020-03-10/2023-03-10?sort=asc&limit=120&apiKey=96VxGNMleqAuqtHWcg4y1WXulsPcjqkB\"\n",
    "r = requests.get(l)"
   ]
  },
  {
   "cell_type": "code",
   "execution_count": 11,
   "metadata": {},
   "outputs": [],
   "source": [
    "data = r.json()\n",
    "with open ('MA_AAPL.json' , 'w') as f :\n",
    "    f.write( json.dumps(data,indent=4) )\n",
    "    f.close()\n"
   ]
  },
  {
   "cell_type": "code",
   "execution_count": 12,
   "metadata": {},
   "outputs": [],
   "source": [
    "with open('MA_AAPL.json') as js_file :\n",
    "    data = json.load(js_file)\n",
    "\n",
    "data_xl = open('MA_AAPL.csv','w')\n",
    "csv_writer = csv.writer(data_xl)\n",
    "\n",
    "count=0\n",
    "\n"
   ]
  },
  {
   "cell_type": "code",
   "execution_count": 14,
   "metadata": {},
   "outputs": [],
   "source": [
    "r=data['results']"
   ]
  },
  {
   "cell_type": "code",
   "execution_count": 15,
   "metadata": {},
   "outputs": [],
   "source": [
    "for emp in r:\n",
    "    if count == 0:\n",
    " \n",
    "        # Writing headers of CSV file\n",
    "        header = emp.keys()\n",
    "        csv_writer.writerow(header)\n",
    "        count += 1\n",
    " \n",
    "    # Writing data of CSV file\n",
    "    csv_writer.writerow(emp.values())\n",
    " \n",
    "data_xl.close()"
   ]
  },
  {
   "cell_type": "code",
   "execution_count": 17,
   "metadata": {},
   "outputs": [],
   "source": [
    "f= requests.get(\"https://www.brvm.org/fr/cours-actions/17\")\n",
    "f"
   ]
  },
  {
   "cell_type": "code",
   "execution_count": 18,
   "metadata": {},
   "outputs": [
    {
     "data": {
      "text/plain": [
       "<Response [403]>"
      ]
     },
     "execution_count": 18,
     "metadata": {},
     "output_type": "execute_result"
    }
   ],
   "source": []
  }
 ],
 "metadata": {
  "kernelspec": {
   "display_name": "Python 3",
   "language": "python",
   "name": "python3"
  },
  "language_info": {
   "codemirror_mode": {
    "name": "ipython",
    "version": 3
   },
   "file_extension": ".py",
   "mimetype": "text/x-python",
   "name": "python",
   "nbconvert_exporter": "python",
   "pygments_lexer": "ipython3",
   "version": "3.10.6"
  },
  "orig_nbformat": 4
 },
 "nbformat": 4,
 "nbformat_minor": 2
}
