{
 "cells": [
  {
   "cell_type": "code",
   "execution_count": 32,
   "metadata": {},
   "outputs": [],
   "source": [
    "import pandas as pd"
   ]
  },
  {
   "cell_type": "code",
   "execution_count": 33,
   "metadata": {},
   "outputs": [],
   "source": [
    "file_name = \"ETIT.csv\""
   ]
  },
  {
   "cell_type": "code",
   "execution_count": 34,
   "metadata": {},
   "outputs": [],
   "source": [
    "data = pd.read_csv(file_name , index_col=\"Date\")\n",
    "inverse = [i for i in range(len(data)-1, 0 , -1)]\n",
    "data = data.iloc[inverse]"
   ]
  },
  {
   "cell_type": "code",
   "execution_count": 35,
   "metadata": {},
   "outputs": [],
   "source": [
    "data[\"Close\"] = data[\"Dernier\"].apply(lambda x : float(str(x).replace(\",\",\".\") ))\n",
    "data[\"High\"] = data[\" Plus Haut\"].apply(lambda x : float(str(x).replace(\",\",\".\") ))\n",
    "data['Low'] = data[\"Plus Bas\"].apply(lambda x : float(str(x).replace(\",\",\".\") ))\n",
    "data[\"Open\"] = data[\"Ouv.\"].apply(lambda x : float(str(x).replace(\",\",\".\") ))"
   ]
  },
  {
   "cell_type": "code",
   "execution_count": 36,
   "metadata": {},
   "outputs": [
    {
     "data": {
      "text/html": [
       "<div>\n",
       "<style scoped>\n",
       "    .dataframe tbody tr th:only-of-type {\n",
       "        vertical-align: middle;\n",
       "    }\n",
       "\n",
       "    .dataframe tbody tr th {\n",
       "        vertical-align: top;\n",
       "    }\n",
       "\n",
       "    .dataframe thead th {\n",
       "        text-align: right;\n",
       "    }\n",
       "</style>\n",
       "<table border=\"1\" class=\"dataframe\">\n",
       "  <thead>\n",
       "    <tr style=\"text-align: right;\">\n",
       "      <th></th>\n",
       "      <th>Dernier</th>\n",
       "      <th>Ouv.</th>\n",
       "      <th>Plus Haut</th>\n",
       "      <th>Plus Bas</th>\n",
       "      <th>Vol.</th>\n",
       "      <th>Variation %</th>\n",
       "      <th>Close</th>\n",
       "      <th>High</th>\n",
       "      <th>Low</th>\n",
       "      <th>Open</th>\n",
       "    </tr>\n",
       "    <tr>\n",
       "      <th>Date</th>\n",
       "      <th></th>\n",
       "      <th></th>\n",
       "      <th></th>\n",
       "      <th></th>\n",
       "      <th></th>\n",
       "      <th></th>\n",
       "      <th></th>\n",
       "      <th></th>\n",
       "      <th></th>\n",
       "      <th></th>\n",
       "    </tr>\n",
       "  </thead>\n",
       "  <tbody>\n",
       "    <tr>\n",
       "      <th>07/05/2014</th>\n",
       "      <td>38,00</td>\n",
       "      <td>38,00</td>\n",
       "      <td>38,00</td>\n",
       "      <td>38,00</td>\n",
       "      <td>3,74M</td>\n",
       "      <td>2,70%</td>\n",
       "      <td>38.0</td>\n",
       "      <td>38.0</td>\n",
       "      <td>38.0</td>\n",
       "      <td>38.0</td>\n",
       "    </tr>\n",
       "    <tr>\n",
       "      <th>08/05/2014</th>\n",
       "      <td>38,00</td>\n",
       "      <td>38,00</td>\n",
       "      <td>38,00</td>\n",
       "      <td>38,00</td>\n",
       "      <td>173,32K</td>\n",
       "      <td>0,00%</td>\n",
       "      <td>38.0</td>\n",
       "      <td>38.0</td>\n",
       "      <td>38.0</td>\n",
       "      <td>38.0</td>\n",
       "    </tr>\n",
       "    <tr>\n",
       "      <th>09/05/2014</th>\n",
       "      <td>38,00</td>\n",
       "      <td>38,00</td>\n",
       "      <td>38,00</td>\n",
       "      <td>38,00</td>\n",
       "      <td>77,05K</td>\n",
       "      <td>0,00%</td>\n",
       "      <td>38.0</td>\n",
       "      <td>38.0</td>\n",
       "      <td>38.0</td>\n",
       "      <td>38.0</td>\n",
       "    </tr>\n",
       "    <tr>\n",
       "      <th>12/05/2014</th>\n",
       "      <td>40,00</td>\n",
       "      <td>40,00</td>\n",
       "      <td>40,00</td>\n",
       "      <td>40,00</td>\n",
       "      <td>775,81K</td>\n",
       "      <td>5,26%</td>\n",
       "      <td>40.0</td>\n",
       "      <td>40.0</td>\n",
       "      <td>40.0</td>\n",
       "      <td>40.0</td>\n",
       "    </tr>\n",
       "    <tr>\n",
       "      <th>13/05/2014</th>\n",
       "      <td>40,00</td>\n",
       "      <td>40,00</td>\n",
       "      <td>40,00</td>\n",
       "      <td>40,00</td>\n",
       "      <td>126,02K</td>\n",
       "      <td>0,00%</td>\n",
       "      <td>40.0</td>\n",
       "      <td>40.0</td>\n",
       "      <td>40.0</td>\n",
       "      <td>40.0</td>\n",
       "    </tr>\n",
       "  </tbody>\n",
       "</table>\n",
       "</div>"
      ],
      "text/plain": [
       "           Dernier   Ouv.  Plus Haut Plus Bas     Vol. Variation %  Close   \n",
       "Date                                                                        \n",
       "07/05/2014   38,00  38,00      38,00    38,00    3,74M       2,70%   38.0  \\\n",
       "08/05/2014   38,00  38,00      38,00    38,00  173,32K       0,00%   38.0   \n",
       "09/05/2014   38,00  38,00      38,00    38,00   77,05K       0,00%   38.0   \n",
       "12/05/2014   40,00  40,00      40,00    40,00  775,81K       5,26%   40.0   \n",
       "13/05/2014   40,00  40,00      40,00    40,00  126,02K       0,00%   40.0   \n",
       "\n",
       "            High   Low  Open  \n",
       "Date                          \n",
       "07/05/2014  38.0  38.0  38.0  \n",
       "08/05/2014  38.0  38.0  38.0  \n",
       "09/05/2014  38.0  38.0  38.0  \n",
       "12/05/2014  40.0  40.0  40.0  \n",
       "13/05/2014  40.0  40.0  40.0  "
      ]
     },
     "execution_count": 36,
     "metadata": {},
     "output_type": "execute_result"
    }
   ],
   "source": [
    "data.head()"
   ]
  },
  {
   "cell_type": "code",
   "execution_count": 37,
   "metadata": {},
   "outputs": [],
   "source": [
    "data.to_csv(file_name)"
   ]
  },
  {
   "cell_type": "code",
   "execution_count": null,
   "metadata": {},
   "outputs": [],
   "source": []
  }
 ],
 "metadata": {
  "kernelspec": {
   "display_name": "Python 3",
   "language": "python",
   "name": "python3"
  },
  "language_info": {
   "codemirror_mode": {
    "name": "ipython",
    "version": 3
   },
   "file_extension": ".py",
   "mimetype": "text/x-python",
   "name": "python",
   "nbconvert_exporter": "python",
   "pygments_lexer": "ipython3",
   "version": "3.11.3"
  },
  "orig_nbformat": 4
 },
 "nbformat": 4,
 "nbformat_minor": 2
}
