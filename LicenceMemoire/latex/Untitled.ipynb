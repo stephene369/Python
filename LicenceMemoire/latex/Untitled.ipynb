{
 "cells": [
  {
   "cell_type": "code",
   "execution_count": 1,
   "id": "60d2605a-8f73-4cf0-8357-039541b76f59",
   "metadata": {},
   "outputs": [
    {
     "name": "stdout",
     "output_type": "stream",
     "text": [
      "3\n"
     ]
    }
   ],
   "source": [
    "a = 3 \n",
    "print(a)"
   ]
  },
  {
   "cell_type": "code",
   "execution_count": 2,
   "id": "ab5bf01f-57c6-4ae3-ab51-6ce862204a70",
   "metadata": {},
   "outputs": [
    {
     "name": "stdout",
     "output_type": "stream",
     "text": [
      "a =  6 et b =  4\n"
     ]
    }
   ],
   "source": [
    "a = a+3\n",
    "b = a - 2 \n",
    "print(\"a = \", a ,\"et b = \",b)\n"
   ]
  },
  {
   "cell_type": "code",
   "execution_count": 3,
   "id": "240232df-b0b8-4d76-a825-c3bc6d89ea9b",
   "metadata": {},
   "outputs": [
    {
     "name": "stdout",
     "output_type": "stream",
     "text": [
      "a =  4 et b =  6\n"
     ]
    }
   ],
   "source": [
    "##permutation \n",
    "a,b = b,a \n",
    "print(\"a = \", a ,\"et b = \",b)"
   ]
  },
  {
   "cell_type": "code",
   "execution_count": null,
   "id": "0087dabd-4739-47b1-bd84-62ccc3ce6bfc",
   "metadata": {},
   "outputs": [],
   "source": []
  }
 ],
 "metadata": {
  "kernelspec": {
   "display_name": "Python 3 (ipykernel)",
   "language": "python",
   "name": "python3"
  },
  "language_info": {
   "codemirror_mode": {
    "name": "ipython",
    "version": 3
   },
   "file_extension": ".py",
   "mimetype": "text/x-python",
   "name": "python",
   "nbconvert_exporter": "python",
   "pygments_lexer": "ipython3",
   "version": "3.11.5"
  }
 },
 "nbformat": 4,
 "nbformat_minor": 5
}
