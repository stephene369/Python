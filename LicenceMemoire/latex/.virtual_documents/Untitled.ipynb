a = 3 
print(a)


a = a+3
b = a - 2 
print("a = ", a ,"et b = ",b)



##permutation 
a,b = b,a 
print("a = ", a ,"et b = ",b)



