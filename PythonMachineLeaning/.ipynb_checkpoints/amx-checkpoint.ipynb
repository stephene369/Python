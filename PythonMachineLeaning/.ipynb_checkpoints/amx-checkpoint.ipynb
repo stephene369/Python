{
 "cells": [
  {
   "cell_type": "code",
   "execution_count": 1,
   "metadata": {},
   "outputs": [
    {
     "name": "stdout",
     "output_type": "stream",
     "text": [
      "Optimization terminated successfully.\n",
      "         Current function value: 0.687809\n",
      "         Iterations 4\n"
     ]
    }
   ],
   "source": [
    "import numpy as np\n",
    "import pandas as pd\n",
    "import matplotlib.pyplot as plt\n",
    "from sklearn.linear_model import LogisticRegression\n",
    "from statsmodels.stats.outliers_influence import OLSInfluence\n",
    "import statsmodels.api as sm\n",
    "\n",
    "\n",
    "# Générer des données de démonstration\n",
    "\"\"\"np.random.seed(1)\n",
    "X = np.random.randn(100, 2)\n",
    "y = np.random.binomial(1, 0.5, 100)\n",
    "\n",
    "# Entraîner le modèle de régression logistique\n",
    "model = LogisticRegression()\n",
    "modele=model.fit(X, y)\n",
    "\"\"\"\n",
    "np.random.seed(1)\n",
    "X = np.random.randn(100, 2)\n",
    "y = np.random.binomial(1, 0.5, 100)\n",
    "\n",
    "\n",
    "X = sm.add_constant(X)\n",
    "model = sm.Logit(y,X)\n",
    "resultat = model.fit()\n",
    "\n"
   ]
  },
  {
   "cell_type": "code",
   "execution_count": 7,
   "metadata": {},
   "outputs": [],
   "source": [
    "influ = resultat.get_influence()\n",
    "db = influ.dfbetas"
   ]
  },
  {
   "cell_type": "code",
   "execution_count": 11,
   "metadata": {},
   "outputs": [],
   "source": [
    "\n",
    "# Calculer les résidus standard de Pearson\n",
    "y_pred = modele.predict(X)\n",
    "y_pred_prob = modele.predict_proba(X)[:, 1]\n",
    "pearson_residuals = (y - y_pred_prob) / np.sqrt(y_pred_prob * (1 - y_pred_prob))\n"
   ]
  },
  {
   "cell_type": "code",
   "execution_count": 9,
   "metadata": {},
   "outputs": [
    {
     "ename": "AttributeError",
     "evalue": "'LogisticRegression' object has no attribute 'model'",
     "output_type": "error",
     "traceback": [
      "\u001b[1;31m---------------------------------------------------------------------------\u001b[0m",
      "\u001b[1;31mAttributeError\u001b[0m                            Traceback (most recent call last)",
      "\u001b[1;32mc:\\Users\\steph\\OneDrive\\Documents\\MACHINE_LEARNING\\amx.ipynb Cell 3\u001b[0m in \u001b[0;36m2\n\u001b[0;32m      <a href='vscode-notebook-cell:/c%3A/Users/steph/OneDrive/Documents/MACHINE_LEARNING/amx.ipynb#W2sZmlsZQ%3D%3D?line=0'>1</a>\u001b[0m \u001b[39m# Calculer les distances de Cook et de D-Batas\u001b[39;00m\n\u001b[1;32m----> <a href='vscode-notebook-cell:/c%3A/Users/steph/OneDrive/Documents/MACHINE_LEARNING/amx.ipynb#W2sZmlsZQ%3D%3D?line=1'>2</a>\u001b[0m influence \u001b[39m=\u001b[39m OLSInfluence(results\u001b[39m=\u001b[39;49mLogisticRegression())\n\u001b[0;32m      <a href='vscode-notebook-cell:/c%3A/Users/steph/OneDrive/Documents/MACHINE_LEARNING/amx.ipynb#W2sZmlsZQ%3D%3D?line=2'>3</a>\u001b[0m cook_distances \u001b[39m=\u001b[39m influence\u001b[39m.\u001b[39mcooks_distance[\u001b[39m0\u001b[39m]\n\u001b[0;32m      <a href='vscode-notebook-cell:/c%3A/Users/steph/OneDrive/Documents/MACHINE_LEARNING/amx.ipynb#W2sZmlsZQ%3D%3D?line=3'>4</a>\u001b[0m dbatas_distances \u001b[39m=\u001b[39m influence\u001b[39m.\u001b[39mdfbetas[:, \u001b[39m1\u001b[39m]\n",
      "File \u001b[1;32mj:\\Programs\\Python\\Python310\\lib\\site-packages\\statsmodels\\stats\\outliers_influence.py:731\u001b[0m, in \u001b[0;36mOLSInfluence.__init__\u001b[1;34m(self, results)\u001b[0m\n\u001b[0;32m    728\u001b[0m \u001b[39mdef\u001b[39;00m \u001b[39m__init__\u001b[39m(\u001b[39mself\u001b[39m, results):\n\u001b[0;32m    729\u001b[0m     \u001b[39m# check which model is allowed\u001b[39;00m\n\u001b[0;32m    730\u001b[0m     \u001b[39mself\u001b[39m\u001b[39m.\u001b[39mresults \u001b[39m=\u001b[39m maybe_unwrap_results(results)\n\u001b[1;32m--> 731\u001b[0m     \u001b[39mself\u001b[39m\u001b[39m.\u001b[39mnobs, \u001b[39mself\u001b[39m\u001b[39m.\u001b[39mk_vars \u001b[39m=\u001b[39m results\u001b[39m.\u001b[39;49mmodel\u001b[39m.\u001b[39mexog\u001b[39m.\u001b[39mshape\n\u001b[0;32m    732\u001b[0m     \u001b[39mself\u001b[39m\u001b[39m.\u001b[39mendog \u001b[39m=\u001b[39m results\u001b[39m.\u001b[39mmodel\u001b[39m.\u001b[39mendog\n\u001b[0;32m    733\u001b[0m     \u001b[39mself\u001b[39m\u001b[39m.\u001b[39mexog \u001b[39m=\u001b[39m results\u001b[39m.\u001b[39mmodel\u001b[39m.\u001b[39mexog\n",
      "\u001b[1;31mAttributeError\u001b[0m: 'LogisticRegression' object has no attribute 'model'"
     ]
    }
   ],
   "source": [
    "\n",
    "# Calculer les distances de Cook et de D-Batas\n",
    "influence = OLSInfluence(modele)\n",
    "cook_distances = influence.cooks_distance[0]\n",
    "dbatas_distances = influence.dfbetas[:, 1]"
   ]
  },
  {
   "cell_type": "code",
   "execution_count": null,
   "metadata": {},
   "outputs": [],
   "source": [
    "\n",
    "# Tracer les résidus standard de Pearson\n",
    "plt.figure(figsize=(12, 4))\n",
    "plt.subplot(1, 3, 1)\n",
    "plt.scatter(range(len(pearson_residuals)), pearson_residuals)\n",
    "plt.axhline(0, color='red', linestyle='--')\n",
    "plt.xlabel('Index de l\\'échantillon')\n",
    "plt.ylabel('Résidus standard de Pearson')\n",
    "\n",
    "# Tracer les distances de Cook\n",
    "plt.subplot(1, 3, 2)\n",
    "plt.scatter(range(len(cook_distances)), cook_distances)\n",
    "plt.axhline(0, color='red', linestyle='--')\n",
    "plt.xlabel('Index de l\\'échantillon')\n",
    "plt.ylabel('Distances de Cook')\n",
    "\n",
    "# Tracer les distances de D-Batas\n",
    "plt.subplot(1, 3, 3)\n",
    "plt.scatter(range(len(dbatas_distances)), dbatas_distances)\n",
    "plt.axhline(0, color='red', linestyle='--')\n",
    "plt.xlabel('Index de l\\'échantillon')\n",
    "plt.ylabel('Distances de D-Batas')\n",
    "\n",
    "plt.tight_layout()\n",
    "plt.show()"
   ]
  }
 ],
 "metadata": {
  "kernelspec": {
   "display_name": "Python 3",
   "language": "python",
   "name": "python3"
  },
  "language_info": {
   "codemirror_mode": {
    "name": "ipython",
    "version": 3
   },
   "file_extension": ".py",
   "mimetype": "text/x-python",
   "name": "python",
   "nbconvert_exporter": "python",
   "pygments_lexer": "ipython3",
   "version": "3.10.11"
  },
  "orig_nbformat": 4
 },
 "nbformat": 4,
 "nbformat_minor": 2
}
