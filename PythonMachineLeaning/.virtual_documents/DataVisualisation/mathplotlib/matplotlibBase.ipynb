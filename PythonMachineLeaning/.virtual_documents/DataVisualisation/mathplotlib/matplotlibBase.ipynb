import matplotlib.pyplot as plt
import numpy as np


x=np.arange(100)
y=x**2
z=(y/3)

X=list(x)
X=str(X)*2



plt.plot(["moi",'3'],[3,5])


plt.plot(x,y,label=X)


#plt.xlim(8,70)
#plt.xlim(3,434)



carre=x**2

sinuss=np.sin(x)

fonction=2*x
cube=x**3


fig,axes = plt.subplots(nrows=2,ncols=2)
axes[0][0].plot(x,carre)
axes[0][1].plot(x,sinuss)
axes[1][0].plot(x,fonction)
axes[1][1].plot(x,cube)
axes[0][0].set_ylabel("Carree")
axes[0][1].set_ylabel("Sinus")
axes[1][0].set_ylabel("Fonction 2x")
axes[1][1].set_ylabel("Cube")
fig.subplots_adjust(wspace=0.8,hspace=1) ;








x=np.arange(0,20)
y=x*2


fig=plt.figure(figsize=(6,6))
axes=fig.add_axes([0,0,1,1])
axes.plot(x,y)
axess=fig.add_axes([0,1,1,0.5])
axess.plot(x**2,y)




a = np.linspace(0,10,11)
# a nombre de 0 a 10 avec 11 point regulirement(uniforment) espacer
b=a**4


x1 = np.arange(0,10)
y1=2*x



fig = plt.figure()
axes1=fig.add_axes([0,0,1,1])
axes1.plot(a,b)
axes1.set_xlim(0,7)
axes1.set_ylim(200,7000)
axes1.set_xlabel("xlabel")
axes1.set_ylabel("ylabel")
axes.set_title("title")

axes2=fig.add_axes([0.2,0.2,0.5,0.5])
axes2.plot(x,y)

plt.show()


fig = plt.figure(figsize=(6,4),dpi=100)
axes2=fig.add_axes([0,0,1,1])
axes2.plot(a,b)

fig.savefig("my_figure.png",bbox_inches='tight')








import numpy as np
import matplotlib.pyplot as plt



a=np.linspace(0,10,11)
b=a**4

x=np.arange(0,10)
y=2*x


fig , axes3 = plt.subplots(nrows=2,ncols=2)

axes3[0][0].plot(x,y)
axes3[1][1].plot(a,b)

plt.tight_layout() # espace les graphes entre eux automatiquement
fig.subplots_adjust(wspace=0.8,hspace=0.4) # beaucoup de parametre pour cette fonction

axes3[0][0].set_xlabel("xlabel")
axes3[0][0].set_ylabel("ylabel")
axes3[0][0].set_xlim(0,8)
axes3[1][1].set_ylim(4,18)

fig.suptitle("Le nom complet ", fontsize=10)

fig.savefig('figureSubplot.png',bbox_inches='tight')








import matplotlib.pyplot as plti
import numpy as np 



point = np.linspace(0,11,10)




from cProfile import label


fig = plt.figure()

ax=fig.add_axes([0,0,1,1])
ax.plot(point,point,label="X vs X", color='blue')
ax.plot(point,point**2, label="X vs. X^2",color='red', lw=4 ,linestyle='--')
"ax.legend(loc=0) "
"lw  = linewidht"
ax.legend(loc=(0,1))






from cProfile import label


fig = plt.figure()

ax=fig.add_axes([0,0,1,1])
lines01=ax.plot(point,point,label="X vs X", color='blue',lw=3)
lines02=ax.plot(point,point**2, label="X vs. X^2"
                ,color='red', lw=2 ,marker='1',markersize=10
                ,markerfacecolor='red',markeredgecolor='black')
ax.legend(loc=(0,1))
     
lines01[0].set_dashes([1,2,1,2,8,1])




