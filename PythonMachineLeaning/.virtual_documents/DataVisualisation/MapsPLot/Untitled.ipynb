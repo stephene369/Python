import geopandas
import geodatasets
import contextily as cx


path = "data/BEN_adm.zip"
df1 = geopandas.read_file( path )
ax = df1.plot(figsize=(10, 10), alpha=0.5, edgecolor="k",color='green')


path = "Data/BEN_wat.zip"
df2 = geopandas.read_file( path )
ax = df2.plot(figsize=(10, 10), alpha=0.5, edgecolor="k",legend=True,color='blue')
df2.head(2)


path = "Data/BEN_msk_pop.zip"
df3 = geopandas.read_file( path )
ax = df3.plot(figsize=(10, 10), alpha=0.5, edgecolor="k",legend=True,color='blue')
df3.head()









