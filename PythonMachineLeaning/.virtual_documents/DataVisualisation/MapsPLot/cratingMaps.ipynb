df_teams_countries_disciplines = df_teams.groupby(by="NOC").agg({'Discipline':'count'}).reset_index().sort_values(by='Discipline', ascending=False)
ax = df_teams_countries_disciplines.plot.bar(x='NOC', xlabel = '', figsize=(20,8))


import geopandas as gpd

df_world = gpd.read_file(gpd.datasets.get_path('naturalearth_lowres'))

print(f"{type(df_world)}, {df_world.geometry.name}")

print(df_world.head())

print(df_world.geometry.geom_type.value_counts())


df_world[df_world['name']=='Tanzania'].count_value()


df_world.plot(figsize=(10,6))


df_world_teams = df_world.merge(df_teams_countries_disciplines, how="left", left_on=['name'], right_on=['NOC'])
print("Type of DataFrame : ", type(df_world_teams), df_world_teams.shape[0])
df_world_teams.head()





ax=df_world['geometry'].boundary.plot(figsize=(10,8))


df_world_teams.plot(colum='Discipline', ax=ax , cmp='OrRd' , 
                    legend = True )



