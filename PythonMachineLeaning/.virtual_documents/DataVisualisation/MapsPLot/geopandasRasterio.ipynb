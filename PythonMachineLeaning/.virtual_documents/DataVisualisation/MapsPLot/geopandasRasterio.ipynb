import geopandas
import rasterio
import matplotlib.pyplot as plt
from shapely.geometry import Point


# Create sampling points
points = [Point(625466, 5621289), Point(626082, 5621627), Point(627116, 5621680), Point(625095, 5622358)]
gdf = geopandas.GeoDataFrame([1, 2, 3, 4], geometry=points, crs=32630)


src = rasterio.open('data/gistemp1200_GHCNv4_ERSSTv5.nc')


from rasterio.plot import show

fig, ax = plt.subplots()

# transform rasterio plot to real world coords
extent=[src.bounds[0], src.bounds[2], src.bounds[1], src.bounds[3]]
ax = rasterio.plot.show(src, extent=extent, ax=ax, cmap='pink')

gdf.plot(ax=ax)


coord_list = [(x,y) for x,y in zip(gdf['geometry'].x , gdf['geometry'].y)]


gdf['value'] = [x for x in src.sample(coord_list)]
gdf.head()



