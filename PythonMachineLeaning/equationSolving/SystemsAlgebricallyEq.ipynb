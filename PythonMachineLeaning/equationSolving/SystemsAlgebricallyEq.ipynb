{
 "cells": [
  {
   "cell_type": "code",
   "execution_count": 21,
   "metadata": {},
   "outputs": [],
   "source": [
    "from sympy import solve\n",
    "from sympy.abc import x , y , z\n",
    "from sympy.printing import pprint"
   ]
  },
  {
   "cell_type": "code",
   "execution_count": 12,
   "metadata": {},
   "outputs": [],
   "source": [
    "systems = [x**2 + y - 2*z, y + 4*z]\n",
    "solutions = solve(systems , [x, y] , set=True)"
   ]
  },
  {
   "cell_type": "code",
   "execution_count": 31,
   "metadata": {},
   "outputs": [
    {
     "name": "stdout",
     "output_type": "stream",
     "text": [
      "([x, y], {(-√6⋅√z, -4⋅z), (√6⋅√z, -4⋅z)})\n"
     ]
    }
   ],
   "source": [
    "pprint(solutions)"
   ]
  }
 ],
 "metadata": {
  "kernelspec": {
   "display_name": "AiVenv3.11",
   "language": "python",
   "name": "python3"
  },
  "language_info": {
   "codemirror_mode": {
    "name": "ipython",
    "version": 3
   },
   "file_extension": ".py",
   "mimetype": "text/x-python",
   "name": "python",
   "nbconvert_exporter": "python",
   "pygments_lexer": "ipython3",
   "version": "3.11.6"
  }
 },
 "nbformat": 4,
 "nbformat_minor": 2
}
