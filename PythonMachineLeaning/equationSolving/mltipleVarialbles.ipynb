{
 "cells": [
  {
   "cell_type": "code",
   "execution_count": 3,
   "id": "0f1e913d-73c0-4128-9a9a-f18e410ec838",
   "metadata": {},
   "outputs": [],
   "source": [
    "from sympy import solve , symbols"
   ]
  },
  {
   "cell_type": "code",
   "execution_count": 5,
   "id": "1f5c8834-65b8-4396-ac1a-7a8b7275cb40",
   "metadata": {},
   "outputs": [],
   "source": [
    "x = symbols('x')\n",
    "y = symbols('y')"
   ]
  },
  {
   "cell_type": "code",
   "execution_count": 7,
   "id": "9bf9acc9-feae-450d-b334-2af2aafdae52",
   "metadata": {},
   "outputs": [],
   "source": [
    "equation =  y*2 - x**3"
   ]
  },
  {
   "cell_type": "code",
   "execution_count": 12,
   "id": "0fad9daf-3a89-4d2f-83a1-f7a7702b87e1",
   "metadata": {},
   "outputs": [],
   "source": [
    "solutions = solve(equation , [y , x])"
   ]
  },
  {
   "cell_type": "code",
   "execution_count": 13,
   "id": "1a6f7b75-e935-4eef-9de3-09d2c4ae8af5",
   "metadata": {},
   "outputs": [
    {
     "data": {
      "text/plain": [
       "[(x**3/2, x)]"
      ]
     },
     "execution_count": 13,
     "metadata": {},
     "output_type": "execute_result"
    }
   ],
   "source": [
    "solutions"
   ]
  },
  {
   "cell_type": "code",
   "execution_count": 16,
   "id": "2dda31a8-5418-41bf-a29a-9f686573c364",
   "metadata": {},
   "outputs": [
    {
     "name": "stderr",
     "output_type": "stream",
     "text": [
      "IOPub data rate exceeded.\n",
      "The Jupyter server will temporarily stop sending output\n",
      "to the client in order to avoid crashing it.\n",
      "To change this limit, set the config variable\n",
      "`--ServerApp.iopub_data_rate_limit`.\n",
      "\n",
      "Current values:\n",
      "ServerApp.iopub_data_rate_limit=1000000.0 (bytes/sec)\n",
      "ServerApp.rate_limit_window=3.0 (secs)\n",
      "\n"
     ]
    }
   ],
   "source": [
    "import sympy \n",
    "help(sympy. )"
   ]
  }
 ],
 "metadata": {
  "kernelspec": {
   "display_name": "Python 3 (ipykernel)",
   "language": "python",
   "name": "python3"
  },
  "language_info": {
   "codemirror_mode": {
    "name": "ipython",
    "version": 3
   },
   "file_extension": ".py",
   "mimetype": "text/x-python",
   "name": "python",
   "nbconvert_exporter": "python",
   "pygments_lexer": "ipython3",
   "version": "3.11.6"
  }
 },
 "nbformat": 4,
 "nbformat_minor": 5
}
