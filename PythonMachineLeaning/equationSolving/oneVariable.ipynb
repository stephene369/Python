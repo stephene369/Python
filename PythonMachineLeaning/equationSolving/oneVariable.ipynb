{
 "cells": [
  {
   "cell_type": "code",
   "execution_count": 34,
   "id": "f4f18774-6651-4019-ad7e-530d8c8aa69a",
   "metadata": {},
   "outputs": [],
   "source": [
    "from sympy import solve , symbols , \n",
    "from pprint  import pprint"
   ]
  },
  {
   "cell_type": "code",
   "execution_count": 3,
   "id": "4c20e599-38fd-43d4-9442-9bf15d9862b2",
   "metadata": {},
   "outputs": [],
   "source": [
    "x = symbols(\"x\")"
   ]
  },
  {
   "cell_type": "code",
   "execution_count": 27,
   "id": "e6a0a44b-219d-4768-acc8-ce3c8165b79b",
   "metadata": {},
   "outputs": [],
   "source": [
    "equation = x**3 - x**2 + x - 10 "
   ]
  },
  {
   "cell_type": "code",
   "execution_count": 28,
   "id": "a0a774e1-6c63-482d-bb5d-20eff2920232",
   "metadata": {},
   "outputs": [],
   "source": [
    "solution = solve(equation , x , )"
   ]
  },
  {
   "cell_type": "code",
   "execution_count": 36,
   "id": "f94f3265-69ec-42d0-b1c0-5d09895a67d4",
   "metadata": {},
   "outputs": [
    {
     "data": {
      "text/latex": [
       "$\\displaystyle \\frac{1}{3} - \\frac{2}{9 \\left(- \\frac{1}{2} + \\frac{\\sqrt{3} i}{2}\\right) \\sqrt[3]{\\frac{263}{54} + \\frac{\\sqrt{7689}}{18}}} + \\left(- \\frac{1}{2} + \\frac{\\sqrt{3} i}{2}\\right) \\sqrt[3]{\\frac{263}{54} + \\frac{\\sqrt{7689}}{18}}$"
      ],
      "text/plain": [
       "1/3 - 2/(9*(-1/2 + sqrt(3)*I/2)*(263/54 + sqrt(7689)/18)**(1/3)) + (-1/2 + sqrt(3)*I/2)*(263/54 + sqrt(7689)/18)**(1/3)"
      ]
     },
     "execution_count": 36,
     "metadata": {},
     "output_type": "execute_result"
    }
   ],
   "source": [
    "solution[0]"
   ]
  },
  {
   "cell_type": "code",
   "execution_count": 37,
   "id": "82b2368d-9e87-4ec0-b018-3e9097456933",
   "metadata": {},
   "outputs": [
    {
     "data": {
      "text/latex": [
       "$\\displaystyle - \\frac{2}{9 \\sqrt[3]{\\frac{263}{54} + \\frac{\\sqrt{7689}}{18}}} + \\frac{1}{3} + \\sqrt[3]{\\frac{263}{54} + \\frac{\\sqrt{7689}}{18}}$"
      ],
      "text/plain": [
       "-2/(9*(263/54 + sqrt(7689)/18)**(1/3)) + 1/3 + (263/54 + sqrt(7689)/18)**(1/3)"
      ]
     },
     "execution_count": 37,
     "metadata": {},
     "output_type": "execute_result"
    }
   ],
   "source": [
    "solution[1]"
   ]
  },
  {
   "cell_type": "code",
   "execution_count": 39,
   "id": "b372d33e-cf83-4ffa-bb3a-464dde54d529",
   "metadata": {},
   "outputs": [
    {
     "data": {
      "text/latex": [
       "$\\displaystyle - \\frac{2}{9 \\sqrt[3]{\\frac{263}{54} + \\frac{\\sqrt{7689}}{18}}} + \\frac{1}{3} + \\sqrt[3]{\\frac{263}{54} + \\frac{\\sqrt{7689}}{18}}$"
      ],
      "text/plain": [
       "-2/(9*(263/54 + sqrt(7689)/18)**(1/3)) + 1/3 + (263/54 + sqrt(7689)/18)**(1/3)"
      ]
     },
     "execution_count": 39,
     "metadata": {},
     "output_type": "execute_result"
    }
   ],
   "source": [
    "solution[2]"
   ]
  }
 ],
 "metadata": {
  "kernelspec": {
   "display_name": "Python 3 (ipykernel)",
   "language": "python",
   "name": "python3"
  },
  "language_info": {
   "codemirror_mode": {
    "name": "ipython",
    "version": 3
   },
   "file_extension": ".py",
   "mimetype": "text/x-python",
   "name": "python",
   "nbconvert_exporter": "python",
   "pygments_lexer": "ipython3",
   "version": "3.11.6"
  }
 },
 "nbformat": 4,
 "nbformat_minor": 5
}
