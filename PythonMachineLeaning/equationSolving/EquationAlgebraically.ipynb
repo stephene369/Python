{
 "cells": [
  {
   "cell_type": "code",
   "execution_count": 14,
   "metadata": {},
   "outputs": [],
   "source": [
    "from sympy.abc import x , y , z \n",
    "from sympy import solve , symbols , solveset"
   ]
  },
  {
   "cell_type": "markdown",
   "metadata": {},
   "source": [
    "## Solving Functions"
   ]
  },
  {
   "cell_type": "markdown",
   "metadata": {},
   "source": [
    "### solve()"
   ]
  },
  {
   "cell_type": "code",
   "execution_count": 7,
   "metadata": {},
   "outputs": [],
   "source": [
    "equation  = x**2 - y \n",
    "solutions = solve(equation , x , dict=True)"
   ]
  },
  {
   "cell_type": "code",
   "execution_count": 12,
   "metadata": {},
   "outputs": [
    {
     "data": {
      "text/latex": [
       "$\\displaystyle - \\sqrt{y}$"
      ],
      "text/plain": [
       "-sqrt(y)"
      ]
     },
     "execution_count": 12,
     "metadata": {},
     "output_type": "execute_result"
    }
   ],
   "source": [
    "solutions[0][x]"
   ]
  },
  {
   "cell_type": "code",
   "execution_count": 13,
   "metadata": {},
   "outputs": [
    {
     "data": {
      "text/latex": [
       "$\\displaystyle \\sqrt{y}$"
      ],
      "text/plain": [
       "sqrt(y)"
      ]
     },
     "execution_count": 13,
     "metadata": {},
     "output_type": "execute_result"
    }
   ],
   "source": [
    "solutions[1][x]"
   ]
  },
  {
   "cell_type": "markdown",
   "metadata": {},
   "source": [
    "### solveset()"
   ]
  },
  {
   "cell_type": "code",
   "execution_count": 17,
   "metadata": {},
   "outputs": [],
   "source": [
    "equation  = x**2 - y \n",
    "solutions = solveset(equation , x )"
   ]
  },
  {
   "cell_type": "code",
   "execution_count": 19,
   "metadata": {},
   "outputs": [
    {
     "data": {
      "text/latex": [
       "$\\displaystyle \\left\\{- \\sqrt{y}, \\sqrt{y}\\right\\}$"
      ],
      "text/plain": [
       "{-sqrt(y), sqrt(y)}"
      ]
     },
     "execution_count": 19,
     "metadata": {},
     "output_type": "execute_result"
    }
   ],
   "source": [
    "solutions"
   ]
  },
  {
   "cell_type": "markdown",
   "metadata": {},
   "source": [
    "# Find the Roots of a Polynomial Algebraically or Numerically"
   ]
  },
  {
   "cell_type": "code",
   "execution_count": 31,
   "metadata": {},
   "outputs": [],
   "source": [
    "from sympy import roots\n",
    "from sympy.abc import x, a, b, c\n",
    "from sympy import pprint \n"
   ]
  },
  {
   "cell_type": "code",
   "execution_count": 30,
   "metadata": {},
   "outputs": [],
   "source": [
    "solutions = roots(a*x**2 + b*x + c, x,)"
   ]
  },
  {
   "cell_type": "code",
   "execution_count": 32,
   "metadata": {},
   "outputs": [
    {
     "name": "stdout",
     "output_type": "stream",
     "text": [
      "⎧           _____________                _____________   ⎫\n",
      "⎪          ╱           2                ╱           2    ⎪\n",
      "⎨   b    ╲╱  -4⋅a⋅c + b          b    ╲╱  -4⋅a⋅c + b     ⎬\n",
      "⎪- ─── - ────────────────: 1, - ─── + ────────────────: 1⎪\n",
      "⎩  2⋅a         2⋅a              2⋅a         2⋅a          ⎭\n"
     ]
    }
   ],
   "source": [
    "pprint(solutions)"
   ]
  }
 ],
 "metadata": {
  "kernelspec": {
   "display_name": "AiVenv3.11",
   "language": "python",
   "name": "python3"
  },
  "language_info": {
   "codemirror_mode": {
    "name": "ipython",
    "version": 3
   },
   "file_extension": ".py",
   "mimetype": "text/x-python",
   "name": "python",
   "nbconvert_exporter": "python",
   "pygments_lexer": "ipython3",
   "version": "3.11.6"
  }
 },
 "nbformat": 4,
 "nbformat_minor": 2
}
