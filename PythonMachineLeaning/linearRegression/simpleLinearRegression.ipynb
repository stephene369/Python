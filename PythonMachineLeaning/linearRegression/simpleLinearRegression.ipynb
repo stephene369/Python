{
 "cells": [
  {
   "cell_type": "markdown",
   "metadata": {},
   "source": [
    "# Simple Linear Regreesion Using Numpy "
   ]
  },
  {
   "cell_type": "markdown",
   "metadata": {},
   "source": [
    "### La DataFRame TIPS contient une colonne total_bill qui represente la facture total d'un client et la colonne tip represente le pourboire laissé par ce client"
   ]
  },
  {
   "cell_type": "markdown",
   "metadata": {},
   "source": [
    "#### L'objectif ici est calculer les coefficients β₀ Et β₁ telle que Y = β₀ + β₁X .. \n",
    "#### avec Y le pourboire à predire (variable expliquée) et X la facture total du client(variable explicative)."
   ]
  },
  {
   "cell_type": "code",
   "execution_count": 15,
   "metadata": {},
   "outputs": [],
   "source": [
    "import pandas as pd\n",
    "import numpy as np \n",
    "import matplotlib.pyplot as plt"
   ]
  },
  {
   "cell_type": "code",
   "execution_count": 7,
   "metadata": {},
   "outputs": [],
   "source": [
    "DB = pd.read_csv(\"tips.csv\")\n",
    "TIPS = DB[[\"total_bill\", \"tip\"]]"
   ]
  },
  {
   "cell_type": "code",
   "execution_count": 8,
   "metadata": {},
   "outputs": [
    {
     "data": {
      "text/html": [
       "<div>\n",
       "<style scoped>\n",
       "    .dataframe tbody tr th:only-of-type {\n",
       "        vertical-align: middle;\n",
       "    }\n",
       "\n",
       "    .dataframe tbody tr th {\n",
       "        vertical-align: top;\n",
       "    }\n",
       "\n",
       "    .dataframe thead th {\n",
       "        text-align: right;\n",
       "    }\n",
       "</style>\n",
       "<table border=\"1\" class=\"dataframe\">\n",
       "  <thead>\n",
       "    <tr style=\"text-align: right;\">\n",
       "      <th></th>\n",
       "      <th>total_bill</th>\n",
       "      <th>tip</th>\n",
       "    </tr>\n",
       "  </thead>\n",
       "  <tbody>\n",
       "    <tr>\n",
       "      <th>0</th>\n",
       "      <td>16.99</td>\n",
       "      <td>1.01</td>\n",
       "    </tr>\n",
       "    <tr>\n",
       "      <th>1</th>\n",
       "      <td>10.34</td>\n",
       "      <td>1.66</td>\n",
       "    </tr>\n",
       "    <tr>\n",
       "      <th>2</th>\n",
       "      <td>21.01</td>\n",
       "      <td>3.50</td>\n",
       "    </tr>\n",
       "  </tbody>\n",
       "</table>\n",
       "</div>"
      ],
      "text/plain": [
       "   total_bill   tip\n",
       "0       16.99  1.01\n",
       "1       10.34  1.66\n",
       "2       21.01  3.50"
      ]
     },
     "execution_count": 8,
     "metadata": {},
     "output_type": "execute_result"
    }
   ],
   "source": [
    "TIPS.head(3)"
   ]
  },
  {
   "cell_type": "code",
   "execution_count": 38,
   "metadata": {},
   "outputs": [],
   "source": [
    "X = TIPS[\"total_bill\"].values\n",
    "Y = TIPS[\"tip\"].values"
   ]
  },
  {
   "cell_type": "markdown",
   "metadata": {},
   "source": [
    "### β₁ = cov(X, Y) / var(X)\n",
    "### β₀ = moyenne(Y) - β₁ * moyenne(X)\n",
    "### Nous alllons ustiliser les methodes de numpy np.cov() pour directement calculer la covariance entre X et Y , np.var() pour calculer la variance et np.mean() pour calculer la moyenne"
   ]
  },
  {
   "cell_type": "code",
   "execution_count": 63,
   "metadata": {},
   "outputs": [],
   "source": [
    "## β1\n",
    "beta1  = np.cov(X,Y)[0,1] / np.var(X)\n",
    "## β0\n",
    "beta0 = np.mean(Y) - (beta1*np.mean(X) )"
   ]
  },
  {
   "cell_type": "code",
   "execution_count": 64,
   "metadata": {},
   "outputs": [],
   "source": [
    "## CEtte fonction permet de predire le pourboire d'un client grace au \n",
    "## coefficient beta0 et beta1 a parrit de la valeur total de bien consomme\n",
    "\n",
    "def pboir(x) :\n",
    "    y = beta0 + (beta1 * x)\n",
    "    return y"
   ]
  },
  {
   "cell_type": "markdown",
   "metadata": {},
   "source": [
    "Essayons de prédire le pouboire d'un client qui a une facture de 0 et d'un autre qui a une facture de 60 "
   ]
  },
  {
   "cell_type": "code",
   "execution_count": 67,
   "metadata": {},
   "outputs": [
    {
     "name": "stdout",
     "output_type": "stream",
     "text": [
      "Il y des chances pour q'un client ayant acheté pour 0 \n",
      "laisse un pourboire de  0.9117181358798989\n",
      "Il y des chances pour qu'un client ayant acheté pour 60 \n",
      "laisse un pourboire de  7.239121158542178\n"
     ]
    }
   ],
   "source": [
    "x0 = 0 \n",
    "x1 = 60\n",
    "y0 = pboir(x0)\n",
    "y1 = pboir(x1)\n",
    "print(\"Il y des chances pour q'un client ayant acheté pour 0 \\nlaisse un pourboire de \", y0)\n",
    "print(\"Il y des chances pour qu'un client ayant acheté pour 60 \\nlaisse un pourboire de \", y1)\n"
   ]
  },
  {
   "cell_type": "code",
   "execution_count": 62,
   "metadata": {},
   "outputs": [
    {
     "name": "stderr",
     "output_type": "stream",
     "text": [
      "No artists with labels found to put in legend.  Note that artists whose label start with an underscore are ignored when legend() is called with no argument.\n"
     ]
    },
    {
     "data": {
      "image/png": "[encoded data removed]",
      "text/plain": [
       "<Figure size 640x480 with 1 Axes>"
      ]
     },
     "metadata": {},
     "output_type": "display_data"
    }
   ],
   "source": [
    "plt.scatter(x=X,y=Y)\n",
    "plt.xlabel(\"Facture total\")\n",
    "plt.ylabel(\"Pourboire\")\n",
    "plt.plot([x0,x1] , [y0,y1] ,color='red')\n",
    "plt.legend()\n",
    "plt.show()"
   ]
  }
 ],
 "metadata": {
  "kernelspec": {
   "display_name": "AiVenv3.11",
   "language": "python",
   "name": "python3"
  },
  "language_info": {
   "codemirror_mode": {
    "name": "ipython",
    "version": 3
   },
   "file_extension": ".py",
   "mimetype": "text/x-python",
   "name": "python",
   "nbconvert_exporter": "python",
   "pygments_lexer": "ipython3",
   "version": "3.11.5"
  }
 },
 "nbformat": 4,
 "nbformat_minor": 2
}
